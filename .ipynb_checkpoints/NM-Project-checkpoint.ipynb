{
 "cells": [
  {
   "cell_type": "code",
   "execution_count": 1,
   "metadata": {},
   "outputs": [],
   "source": [
    "import numpy as np\n",
    "import matplotlib\n",
    "import matplotlib.pyplot as plt\n",
    "import matplotlib.animation as animation\n",
    "from scipy.sparse import csr_matrix, lil_matrix, identity\n",
    "import time\n",
    "\n",
    "from tqdm import tqdm_notebook"
   ]
  },
  {
   "cell_type": "code",
   "execution_count": 2,
   "metadata": {},
   "outputs": [],
   "source": [
    "plt.rcParams[\"figure.figsize\"] = (12, 12) # (w, h)"
   ]
  },
  {
   "cell_type": "markdown",
   "metadata": {},
   "source": [
    "## Build the map"
   ]
  },
  {
   "cell_type": "code",
   "execution_count": 3,
   "metadata": {},
   "outputs": [],
   "source": [
    "def is_in_box_house(posx, posy, x, y, scaling=1):\n",
    "    h_size = 6 * scaling\n",
    "    return (posx < x < posx + h_size and\n",
    "            posy < y < posy + h_size)\n",
    "\n",
    "\n",
    "def is_in_l_house(posx, posy, x, y, scaling=1):\n",
    "    if (posx < x < posx +  6 * scaling and\n",
    "        posy < y < posy + 26 * scaling):\n",
    "        return True\n",
    "\n",
    "    posx -= 4 * scaling\n",
    "    posy += 20 * scaling\n",
    "\n",
    "    return (posx < x < posx + 5 * scaling and # +1??\n",
    "            posy < y < posy + 6 * scaling)\n",
    "\n",
    "\n",
    "def is_in_L_house(posx, posy, x, y, scaling=1):\n",
    "    if (posx < x < posx + 6 * scaling and\n",
    "        posy < y < posy + 26 * scaling):\n",
    "        return True\n",
    "\n",
    "    posx += 4 * scaling\n",
    "\n",
    "    return (posx < x < posx + 4 * scaling and\n",
    "            posy < y < posy + 6 * scaling)\n",
    "\n",
    "box_houses = np.array([\n",
    "    [23, 37],\n",
    "    [23, 88],\n",
    "    [46,  4],\n",
    "    [46, 55],\n",
    "    [64, 37],\n",
    "    [64, 88],\n",
    "    [87,  4],\n",
    "    [87, 55],\n",
    "])\n",
    "\n",
    "L_houses = np.array([\n",
    "    [23,  4],\n",
    "    [23, 55],\n",
    "    [64,  4],\n",
    "    [64, 55],\n",
    "])\n",
    "\n",
    "l_houses = np.array([\n",
    "    [46, 17],\n",
    "    [46, 68],\n",
    "    [87, 17],\n",
    "    [87, 68],\n",
    "])\n",
    "\n",
    "def is_in_house(x, y, scaling):\n",
    "#     x, y = x / scaling, y / scaling\n",
    "    for house in (box_houses * scaling):\n",
    "        if is_in_box_house(*house, x, y, scaling):\n",
    "            return True\n",
    "\n",
    "    for house in (L_houses * scaling):\n",
    "        if is_in_L_house(*house, x, y, scaling):\n",
    "            return True\n",
    "\n",
    "    for house in (l_houses * scaling):\n",
    "        if is_in_l_house(*house, x, y, scaling):\n",
    "            return True\n",
    "    return False\n",
    "\n",
    "def create_du_map(scale):\n",
    "    grid_size = 100 * scale\n",
    "    return np.array([is_in_house(i, j, scale)\n",
    "                     for i in range(grid_size) for j in range(grid_size)]).reshape((grid_size, grid_size))"
   ]
  },
  {
   "cell_type": "markdown",
   "metadata": {},
   "source": [
    "### Check the map"
   ]
  },
  {
   "cell_type": "code",
   "execution_count": 4,
   "metadata": {},
   "outputs": [
    {
     "data": {
      "image/png": "[encoded data removed]",
      "text/plain": [
       "<Figure size 864x864 with 1 Axes>"
      ]
     },
     "metadata": {
      "needs_background": "light"
     },
     "output_type": "display_data"
    }
   ],
   "source": [
    "grid_scale = 3\n",
    "du_map = create_du_map(grid_scale)\n",
    "\n",
    "plt.imshow(du_map.T)\n",
    "plt.gca().invert_yaxis()\n",
    "plt.show()"
   ]
  },
  {
   "cell_type": "markdown",
   "metadata": {},
   "source": [
    "## Calculate convection-diffusion equation"
   ]
  },
  {
   "cell_type": "code",
   "execution_count": 5,
   "metadata": {
    "colab": {},
    "colab_type": "code",
    "id": "XJksAs-CCf0E"
   },
   "outputs": [],
   "source": [
    "def make_trans_matrix(du_map, tau_coeff, lambda_x, lambda_y):\n",
    "    # Compute parameters\n",
    "    grid_size = len(du_map)\n",
    "    h = 1 / grid_size\n",
    "    tau = tau_coeff * h ** 2 / (4 * k)\n",
    "    N = grid_size * grid_size\n",
    "    coord_to_flat_ind = lambda x, y: x * grid_size + y\n",
    "    print(f\"Params: grid_size={grid_size}; h={h:.7f}; tau={tau:.7f}\")\n",
    "    \n",
    "    dx = [1, -1, 0, 0]\n",
    "    dy = [0, 0, 1, -1]\n",
    "    common = k / (h ** 2)\n",
    "    u0coeff = (1 - 4 * tau * common)\n",
    "    coeffs = [tau * (common - lambda_x / (2 * h)),\n",
    "              tau * (common + lambda_x / (2 * h)),\n",
    "              tau * (common - lambda_y / (2 * h)),\n",
    "              tau * (common + lambda_y / (2 * h))]\n",
    "    \n",
    "    # Compute transition matrix.\n",
    "    A = lil_matrix((N, N))\n",
    "    \n",
    "    for x in range(0, grid_size, 1):\n",
    "        for y in range(0, grid_size, 1):\n",
    "            ind = coord_to_flat_ind(x, y)\n",
    "            # u(0, y) = 1 && du_{in_house} = 0\n",
    "            if x == 0 or du_map[x, y]:\n",
    "                A[ind, ind] = 1\n",
    "                continue\n",
    "            A[ind, ind] = u0coeff\n",
    "            for x_off, y_off, coeff in zip(dx, dy, coeffs):\n",
    "                x_neig, y_neig = x + x_off, y + y_off\n",
    "                \n",
    "                if (\n",
    "                    (x_neig >= grid_size) or # (du/dx)_{x=300} = 0\n",
    "                    (y_neig >= grid_size) or # (du/dy)_{y=300} = 0\n",
    "                    (y_neig <= 0) or         # (du/dy)_{y=0} = 0\n",
    "                    du_map[x_neig, y_neig]   # bounce of a house\n",
    "                   ):\n",
    "                    A[ind, ind] += coeff\n",
    "                else:\n",
    "                    A[ind, coord_to_flat_ind(x_neig, y_neig)] = coeff\n",
    "    \n",
    "    return csr_matrix(A)\n",
    "\n",
    "def make_an_image(u, step, error):\n",
    "    title = plt.text(len(u) / 2, len(u) + .5,\n",
    "                     f'Step #{step:0>8}, error: {error: <2.8f}',\n",
    "                     ha=\"center\",va=\"bottom\", fontsize=\"large\")\n",
    "    im = plt.imshow(u, animated=True, cmap=current_cmap)\n",
    "    plt.clim(0, 1)\n",
    "    plt.gca().invert_yaxis()\n",
    "    return [title, im]\n",
    "\n",
    "def convDiff(k, lambda_x, lambda_y, n_iters, du_map,\n",
    "             eps=1e-5, tau_coeff=1, save_video=False):\n",
    "    \n",
    "    grid_size = len(du_map)\n",
    "    N = grid_size * grid_size\n",
    "\n",
    "    # Init Concentration.\n",
    "    u = np.zeros((N, 1))\n",
    "    y0 = np.array(range(grid_size))\n",
    "    \n",
    "    # Add Houses as bad values.\n",
    "    u[du_map.flatten(), 0] = -1\n",
    "    \n",
    "    # Compute transition matrix.\n",
    "    A = make_trans_matrix(du_map, tau_coeff, lambda_x, lambda_y)\n",
    "    \n",
    "    # Calculate results.\n",
    "    u[y0, 0] = 1 # Init u(0, y) = 1\n",
    "    ims = []\n",
    "    for i in tqdm_notebook(range(n_iters), total=n_iters):\n",
    "        u_new = A * u\n",
    "        error = np.max(np.abs(u_new - u))\n",
    "        if save_video and i % 200 == 0:\n",
    "            im = make_an_image(u_new.reshape((grid_size, grid_size)).T, i, error)\n",
    "            ims.append(im)\n",
    "        if error < eps:\n",
    "            print(\"Change is less than epsilon. Terminating at step:\", i)\n",
    "            break\n",
    "        u = u_new\n",
    "    if save_video:\n",
    "        im = make_an_image(u.reshape((grid_size, grid_size)).T, i, error)\n",
    "        ims.append(im)\n",
    "    \n",
    "    return u.reshape((grid_size, grid_size)), ims"
   ]
  },
  {
   "cell_type": "code",
   "execution_count": 8,
   "metadata": {},
   "outputs": [],
   "source": [
    "# Create a cmap, which will display out of bound values (our houses) with different color.\n",
    "current_cmap = matplotlib.cm.get_cmap() # 'tab20c'\n",
    "current_cmap.set_bad(color='red')\n",
    "current_cmap.set_under('white')"
   ]
  },
  {
   "cell_type": "code",
   "execution_count": 12,
   "metadata": {
    "scrolled": false
   },
   "outputs": [
    {
     "name": "stdout",
     "output_type": "stream",
     "text": [
      "Params: grid_size=300; h=0.0033333; tau=0.0000056\n"
     ]
    },
    {
     "data": {
      "application/vnd.jupyter.widget-view+json": {
       "model_id": "a47f8c4e0c544a59ae85d736b1e48b2e",
       "version_major": 2,
       "version_minor": 0
      },
      "text/plain": [
       "HBox(children=(IntProgress(value=0, max=500000), HTML(value='')))"
      ]
     },
     "metadata": {},
     "output_type": "display_data"
    },
    {
     "name": "stdout",
     "output_type": "stream",
     "text": [
      "Change is less than epsilon. Terminating at step: 301938\n",
      "Total time: 454.94221\n",
      "Saved result in \"videos/out_300_e7_full.mp4\"\n"
     ]
    },
    {
     "data": {
      "image/png": "[encoded data removed]",
      "text/plain": [
       "<Figure size 864x864 with 2 Axes>"
      ]
     },
     "metadata": {
      "needs_background": "light"
     },
     "output_type": "display_data"
    }
   ],
   "source": [
    "# Given parameters\n",
    "k = 0.5\n",
    "lambda_x = 1\n",
    "lambda_y = 0\n",
    "# Changeable parameters\n",
    "grid_scale = 3 # default grid is 100, better to scale by order of 3\n",
    "n_iters = int(1e4 * 5)\n",
    "eps = 10e-6\n",
    "tau_coeff = 1\n",
    "save_video = True\n",
    "off_name = '_300_e6'\n",
    "res_path = f'results/res{off_name}.txt'\n",
    "video_path = f'videos/out{off_name}.mp4' # If you get error about ffmpeg, change to `.gif` (may help)\n",
    "\n",
    "# Create figure in order to be able to save a video.\n",
    "fig = plt.figure()\n",
    "\n",
    "start = time.time()\n",
    "# Create du map. (True in places where du/dt = 0)\n",
    "du_map = create_du_map(grid_scale)\n",
    "\n",
    "# Solve.\n",
    "u_res, ims = convDiff(k, lambda_x, lambda_y, n_iters,\n",
    "                du_map, eps, tau_coeff=tau_coeff,\n",
    "                save_video=save_video)\n",
    "end = time.time()\n",
    "print(f'Total time: {end - start:.5f}')\n",
    "\n",
    "# Save video.\n",
    "if save_video:\n",
    "    print(f'Creating videofile...')\n",
    "    plt.colorbar()\n",
    "    ani = animation.ArtistAnimation(fig, ims, interval=100, blit=True, repeat_delay=1000)\n",
    "    ani.save(video_path)\n",
    "    print(f'Saved result in \"{video_path}\"')\n",
    "\n",
    "# Plot.\n",
    "plt.imshow(u_res.T, cmap=current_cmap)\n",
    "plt.gca().invert_yaxis()\n",
    "# plt.colorbar()\n",
    "plt.clim(0, 1)\n",
    "plt.show()\n",
    "\n",
    "grid_size = len(du_map)\n",
    "with open(res_path, 'w') as out_file:\n",
    "    out_file.write(str(grid_size) + '\\n')\n",
    "    for x in range(0, grid_size, 1):\n",
    "        out_file.write(' '.join(map(lambda y: str(u_res[x, y]), range(0, grid_size, 1))) + '\\n')"
   ]
  },
  {
   "cell_type": "markdown",
   "metadata": {},
   "source": [
    "## Output"
   ]
  },
  {
   "cell_type": "code",
   "execution_count": 27,
   "metadata": {},
   "outputs": [],
   "source": [
    "# res_path = 'res.txt'"
   ]
  },
  {
   "cell_type": "markdown",
   "metadata": {},
   "source": [
    "### Output as stated in the task"
   ]
  },
  {
   "cell_type": "code",
   "execution_count": null,
   "metadata": {},
   "outputs": [],
   "source": [
    "grid_size = len(du_map)\n",
    "with open(res_path, 'w') as out_file:\n",
    "    out_file.write(str(grid_size) + '\\n')\n",
    "    for x in range(0, grid_size, 1):\n",
    "        out_file.write(' '.join(map(lambda y: ' '.join(map(str, (x, y, u_res[x, y]))), range(0, grid_size, 1))) + '\\n')\n",
    "\n",
    "# print(grid_size)\n",
    "# for x in range(0, grid_size, 1):\n",
    "#     print(' '.join(map(lambda y: ' '.join(map(str, (x, y, u_res[x, y]))), range(0, grid_size, 1))))"
   ]
  },
  {
   "cell_type": "markdown",
   "metadata": {},
   "source": [
    "### Output as stated by Ivan G"
   ]
  },
  {
   "cell_type": "code",
   "execution_count": 30,
   "metadata": {},
   "outputs": [],
   "source": [
    "grid_size = len(du_map)\n",
    "with open(res_path, 'w') as out_file:\n",
    "    out_file.write(str(grid_size) + '\\n')\n",
    "    for x in range(0, grid_size, 1):\n",
    "        out_file.write(' '.join(map(lambda y: str(u_res[x, y]), range(0, grid_size, 1))) + '\\n')\n",
    "\n",
    "# print(grid_size)\n",
    "# for x in range(0, grid_size, 1):\n",
    "#     print(' '.join(map(lambda y: str(u_res[x, y]), range(0, grid_size, 1))))"
   ]
  },
  {
   "cell_type": "code",
   "execution_count": null,
   "metadata": {},
   "outputs": [],
   "source": []
  }
 ],
 "metadata": {
  "colab": {
   "collapsed_sections": [],
   "machine_shape": "hm",
   "name": "Copy of Untitled3.ipynb",
   "provenance": []
  },
  "kernelspec": {
   "display_name": "Python 3",
   "language": "python",
   "name": "python3"
  },
  "language_info": {
   "codemirror_mode": {
    "name": "ipython",
    "version": 3
   },
   "file_extension": ".py",
   "mimetype": "text/x-python",
   "name": "python",
   "nbconvert_exporter": "python",
   "pygments_lexer": "ipython3",
   "version": "3.7.3"
  }
 },
 "nbformat": 4,
 "nbformat_minor": 1
}
